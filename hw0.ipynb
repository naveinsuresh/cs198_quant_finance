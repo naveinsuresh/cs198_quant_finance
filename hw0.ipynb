{
 "cells": [
  {
   "cell_type": "markdown",
   "id": "bab06932",
   "metadata": {},
   "source": [
    "# Stat 198: Introduction to Quantitative Finance DeCal\n",
    "\n",
    "Stat 198 is hosted by [Traders at Berkeley](https://traders.berkeley.edu/). \n",
    "\n",
    "Course Website: [https://traders.berkeley.edu/education](https://traders.berkeley.edu/education.html)"
   ]
  },
  {
   "cell_type": "markdown",
   "id": "edb76468",
   "metadata": {},
   "source": [
    "# Homework #0"
   ]
  },
  {
   "attachments": {},
   "cell_type": "markdown",
   "id": "33465889",
   "metadata": {},
   "source": [
    "The first homework is to make sure you are up to speed with the tools necessary to complete future homeworks/project.\n",
    "\n",
    "More information on the necessary tools is available [here](https://docs.google.com/document/d/15RrRBhsXgoGdq_egw0w1DwQrXmHMmzAFdPSdA4bBuj0/edit).\n",
    "\n",
    "You are free to use any IDE of your choice, but our homework will primarily be in a Jupyter Notebook format.\n",
    "\n",
    "**Learning Objectives:**\n",
    "\n",
    "- Package Downloads\n",
    "- Pandas and NumPy Review\n",
    "- Data Visualization Review\n",
    "\n",
    "**Helpful References**\n",
    "- The Data 100 reference sheet (mainly first page): https://ds100.org/su22/resources/assets/exams/su22/su22_final_reference_sheet.pdf\n",
    "- Pandas documentation: https://pandas.pydata.org/docs/\n",
    "- NumPy documentation: https://numpy.org/doc/\n",
    "- Matplotlib documentation: https://matplotlib.org/stable/index.html"
   ]
  },
  {
   "cell_type": "markdown",
   "id": "26c2f2c0",
   "metadata": {},
   "source": [
    "##  Package Downloads\n",
    "This is to check if you have all the necessary packages installed. Please install numpy, pandas, scikit-learn, statsmodels, and matplotlib. Run all of the commands below to make sure your packages are installed."
   ]
  },
  {
   "cell_type": "code",
   "execution_count": 1,
   "id": "2f55a3d1",
   "metadata": {},
   "outputs": [
    {
     "name": "stdout",
     "output_type": "stream",
     "text": [
      "Name: numpy\n",
      "Version: 1.21.5\n",
      "Summary: NumPy is the fundamental package for array computing with Python.\n",
      "Home-page: https://www.numpy.org\n",
      "Author: Travis E. Oliphant et al.\n",
      "Author-email: \n",
      "License: BSD\n",
      "Location: /Users/naveinsuresh/opt/anaconda3/lib/python3.9/site-packages\n",
      "Requires: \n",
      "Required-by: yfinance, xarray, tifffile, tensorflow, tensorboard, tables, statsmodels, seaborn, scipy, scikit-learn, scikit-image, rustworkx, retworkx, Quandl, qiskit-terra, qiskit-ignis, qiskit-ibmq-provider, qiskit-aqua, qiskit-aer, PyWavelets, pytplot-mpl-temp, pyspedas, pyerfa, patsy, pandas, opt-einsum, numexpr, numba, netCDF4, mkl-random, mkl-fft, matplotlib, imageio, imagecodecs, hvplot, holoviews, hapiclient, h5py, gensim, fastdtw, datashape, datashader, daal4py, cftime, cdflib, Bottleneck, bokeh, bkcharts, astropy\n"
     ]
    }
   ],
   "source": [
    "!pip show numpy"
   ]
  },
  {
   "cell_type": "code",
   "execution_count": 2,
   "id": "c5d3c108",
   "metadata": {},
   "outputs": [
    {
     "name": "stdout",
     "output_type": "stream",
     "text": [
      "Name: pandas\n",
      "Version: 1.4.2\n",
      "Summary: Powerful data structures for data analysis, time series, and statistics\n",
      "Home-page: https://pandas.pydata.org\n",
      "Author: The Pandas Development Team\n",
      "Author-email: pandas-dev@python.org\n",
      "License: BSD-3-Clause\n",
      "Location: /Users/naveinsuresh/opt/anaconda3/lib/python3.9/site-packages\n",
      "Requires: python-dateutil, pytz, numpy\n",
      "Required-by: yfinance, xarray, statsmodels, seaborn, Quandl, qiskit-aqua, pytplot-mpl-temp, pyreadstat, hvplot, holoviews, hapiclient, datashader\n"
     ]
    }
   ],
   "source": [
    "!pip show pandas"
   ]
  },
  {
   "cell_type": "code",
   "execution_count": 3,
   "id": "8f2928ea",
   "metadata": {},
   "outputs": [
    {
     "name": "stdout",
     "output_type": "stream",
     "text": [
      "Name: scikit-learn\n",
      "Version: 1.0.2\n",
      "Summary: A set of python modules for machine learning and data mining\n",
      "Home-page: http://scikit-learn.org\n",
      "Author: \n",
      "Author-email: \n",
      "License: new BSD\n",
      "Location: /Users/naveinsuresh/opt/anaconda3/lib/python3.9/site-packages\n",
      "Requires: joblib, numpy, scipy, threadpoolctl\n",
      "Required-by: scikit-learn-intelex, qiskit-aqua\n"
     ]
    }
   ],
   "source": [
    "!pip show scikit-learn"
   ]
  },
  {
   "cell_type": "code",
   "execution_count": 4,
   "id": "ea34dccd",
   "metadata": {},
   "outputs": [
    {
     "name": "stdout",
     "output_type": "stream",
     "text": [
      "Name: statsmodels\n",
      "Version: 0.13.2\n",
      "Summary: Statistical computations and models for Python\n",
      "Home-page: https://www.statsmodels.org/\n",
      "Author: \n",
      "Author-email: \n",
      "License: BSD License\n",
      "Location: /Users/naveinsuresh/opt/anaconda3/lib/python3.9/site-packages\n",
      "Requires: pandas, packaging, patsy, scipy, numpy\n",
      "Required-by: \n"
     ]
    }
   ],
   "source": [
    "!pip show statsmodels"
   ]
  },
  {
   "cell_type": "code",
   "execution_count": 5,
   "id": "2b7a8c72",
   "metadata": {},
   "outputs": [
    {
     "name": "stdout",
     "output_type": "stream",
     "text": [
      "Name: matplotlib\n",
      "Version: 3.5.1\n",
      "Summary: Python plotting package\n",
      "Home-page: https://matplotlib.org\n",
      "Author: John D. Hunter, Michael Droettboom\n",
      "Author-email: matplotlib-users@python.org\n",
      "License: PSF\n",
      "Location: /Users/naveinsuresh/opt/anaconda3/lib/python3.9/site-packages\n",
      "Requires: pillow, packaging, pyparsing, kiwisolver, numpy, cycler, python-dateutil, fonttools\n",
      "Required-by: seaborn, pytplot-mpl-temp\n"
     ]
    }
   ],
   "source": [
    "!pip show matplotlib"
   ]
  },
  {
   "attachments": {},
   "cell_type": "markdown",
   "id": "f79bb344",
   "metadata": {},
   "source": [
    "### Questions\n",
    "These questions are for you to learn about some basics of the above packages. If you aren't familiar with them, search them up!\n",
    "\n",
    "#### 1.1 What is numpy used for?\n",
    "\n",
    "NumPy is a python library/module used for creating and manipulating array & matrix structures, in which data can be stored in.\n",
    "\n",
    "#### 1.2 What is pandas used for?\n",
    "\n",
    "Pandas is a python library/module used for data table construction and manipulation as well as data science analysis.\n",
    "\n",
    "#### 1.3 What is scikit-learn used for?\n",
    "\n",
    "Scikit-learn is a python machine learning library that contains algorithms for classification, clustering, and regression.\n",
    "\n",
    "#### 1.4 What is statsmodels used for?\n",
    "\n",
    "Statsmodels is a ptyhon package that is used for statistical tests, analysis, and modeling.\n",
    "\n",
    "#### 1.5 What is matplotlib used for?\n",
    "\n",
    "Matplotlib is a python library used to create visual diagrams, displays, and graph plots .\n"
   ]
  },
  {
   "cell_type": "markdown",
   "id": "cbc0f57f",
   "metadata": {},
   "source": [
    "## NumPy Review\n",
    "Numpy is used for large, multi-dimensional arrays and matrices. They also support a large collection of high-level mathematical functions that can be used on these (including Fourier transforms, if you learned about it in CS170!).\n",
    "\n",
    "**First, import the package.**"
   ]
  },
  {
   "cell_type": "code",
   "execution_count": 1,
   "id": "bf042d7f",
   "metadata": {},
   "outputs": [],
   "source": [
    "import numpy as np"
   ]
  },
  {
   "cell_type": "markdown",
   "id": "41ceac61",
   "metadata": {},
   "source": [
    "There are a lot of useful functions and ways to use NumPy but we'll only be covering the very basic few. You can explore more [here](https://numpy.org/doc/stable/user/absolute_beginners.html)!\n",
    "\n",
    "First, we will just cover the basics of NumPy."
   ]
  },
  {
   "cell_type": "code",
   "execution_count": 2,
   "id": "30e1e8e3",
   "metadata": {},
   "outputs": [
    {
     "data": {
      "text/plain": [
       "array([ 2,  5,  8, 11, 14, 17])"
      ]
     },
     "execution_count": 2,
     "metadata": {},
     "output_type": "execute_result"
    }
   ],
   "source": [
    "# Create an array with a range where the parameters are first number, last number, and step size.\n",
    "np.arange(2, 20, 3)"
   ]
  },
  {
   "cell_type": "code",
   "execution_count": 3,
   "id": "c727ca8c",
   "metadata": {},
   "outputs": [
    {
     "data": {
      "text/plain": [
       "array([0., 0., 0., 0., 0.])"
      ]
     },
     "execution_count": 3,
     "metadata": {},
     "output_type": "execute_result"
    }
   ],
   "source": [
    "# Create an array of length 5 filled with 0s\n",
    "np.zeros(5)"
   ]
  },
  {
   "cell_type": "code",
   "execution_count": 9,
   "id": "44b7f1ec",
   "metadata": {},
   "outputs": [
    {
     "data": {
      "text/plain": [
       "array([1, 2, 3, 4])"
      ]
     },
     "execution_count": 9,
     "metadata": {},
     "output_type": "execute_result"
    }
   ],
   "source": [
    "# Create a numpy array\n",
    "np.array([1, 2, 3, 4])"
   ]
  },
  {
   "cell_type": "code",
   "execution_count": 10,
   "id": "fd9a1581",
   "metadata": {},
   "outputs": [
    {
     "data": {
      "text/plain": [
       "array([1, 2, 3, 4, 5, 6, 7])"
      ]
     },
     "execution_count": 10,
     "metadata": {},
     "output_type": "execute_result"
    }
   ],
   "source": [
    "# Sort number arrays in ascending order\n",
    "np.sort([4, 3, 1, 2, 5, 6, 7])"
   ]
  },
  {
   "cell_type": "code",
   "execution_count": 13,
   "id": "08b28e61",
   "metadata": {},
   "outputs": [
    {
     "data": {
      "text/plain": [
       "array([[1, 2],\n",
       "       [3, 4],\n",
       "       [5, 6]])"
      ]
     },
     "execution_count": 13,
     "metadata": {},
     "output_type": "execute_result"
    }
   ],
   "source": [
    "# Concatenate two arrays\n",
    "np.concatenate(([1, 2, 3, 4], [5, 6, 7, 8]))\n",
    "np.concatenate(([[1, 2], [3, 4]], [[5, 6]]), axis = 0)"
   ]
  },
  {
   "cell_type": "code",
   "execution_count": 4,
   "id": "5f1591e5",
   "metadata": {},
   "outputs": [
    {
     "name": "stdout",
     "output_type": "stream",
     "text": [
      "Dimension of the array: 2\n",
      "Total number of elements in the array: 6\n",
      "Shape of the array: (3, 2)\n"
     ]
    }
   ],
   "source": [
    "# Finding dimensions of the array\n",
    "array = np.concatenate(([[1, 2], [3, 4]], [[5, 6]]), axis = 0)\n",
    "print(f\"Dimension of the array: {array.ndim}\")\n",
    "print(f\"Total number of elements in the array: {array.size}\")\n",
    "print(f\"Shape of the array: {array.shape}\")"
   ]
  },
  {
   "cell_type": "code",
   "execution_count": 5,
   "id": "6ba8cd70",
   "metadata": {},
   "outputs": [
    {
     "data": {
      "text/plain": [
       "array([[0, 1],\n",
       "       [2, 3],\n",
       "       [4, 5],\n",
       "       [6, 7],\n",
       "       [8, 9]])"
      ]
     },
     "execution_count": 5,
     "metadata": {},
     "output_type": "execute_result"
    }
   ],
   "source": [
    "# Re-shaping Array\n",
    "a = np.arange(10)\n",
    "b = a.reshape(5, 2)\n",
    "b"
   ]
  },
  {
   "cell_type": "code",
   "execution_count": 10,
   "id": "b3072296",
   "metadata": {},
   "outputs": [
    {
     "name": "stdout",
     "output_type": "stream",
     "text": [
      "Should print 2: 2\n",
      "Should print array([2, 3, 4]): [2 3 4]\n"
     ]
    }
   ],
   "source": [
    "# Indexing works same as a regular array\n",
    "a = np.array([1, 2, 3, 4])\n",
    "print(f\"Should print 2: {a[1]}\")\n",
    "print(f\"Should print array([2, 3, 4]): {a[1:]}\")"
   ]
  },
  {
   "cell_type": "markdown",
   "id": "a72db569",
   "metadata": {},
   "source": [
    "**Q1. Use a NumPy function other than `np.array` to create an array of length 7 filled with 1s.**"
   ]
  },
  {
   "cell_type": "code",
   "execution_count": 11,
   "id": "8f37c50d",
   "metadata": {},
   "outputs": [
    {
     "data": {
      "text/plain": [
       "array([1., 1., 1., 1., 1., 1., 1.])"
      ]
     },
     "execution_count": 11,
     "metadata": {},
     "output_type": "execute_result"
    }
   ],
   "source": [
    "np.ones(7)"
   ]
  },
  {
   "cell_type": "markdown",
   "id": "1a74befa",
   "metadata": {},
   "source": [
    "**Q2. Use a NumPy function other than `np.arange` to create an array of length 10 with values that are spaced linearly from 12 to 202.**"
   ]
  },
  {
   "cell_type": "code",
   "execution_count": 17,
   "id": "becb3c76",
   "metadata": {},
   "outputs": [
    {
     "data": {
      "text/plain": [
       "array([ 12.        ,  33.11111111,  54.22222222,  75.33333333,\n",
       "        96.44444444, 117.55555556, 138.66666667, 159.77777778,\n",
       "       180.88888889, 202.        ])"
      ]
     },
     "execution_count": 17,
     "metadata": {},
     "output_type": "execute_result"
    }
   ],
   "source": [
    "np.linspace(12, 202, 10)"
   ]
  },
  {
   "cell_type": "markdown",
   "id": "849d9631",
   "metadata": {},
   "source": [
    "**Q3. Use `np.sort` to sort the number array below in descending order**"
   ]
  },
  {
   "cell_type": "code",
   "execution_count": 44,
   "id": "657ea13a",
   "metadata": {},
   "outputs": [
    {
     "data": {
      "text/plain": [
       "array([8, 7, 6, 5, 4, 3, 2, 1])"
      ]
     },
     "execution_count": 44,
     "metadata": {},
     "output_type": "execute_result"
    }
   ],
   "source": [
    "array = [5, 4, 6, 2, 3, 8, 1, 7]\n",
    "np.sort(array)[::-1]"
   ]
  },
  {
   "attachments": {},
   "cell_type": "markdown",
   "id": "69a86c7b",
   "metadata": {},
   "source": [
    "**Q4. Use boolean indexing to select numbers that are greater than 3 in the given array.**"
   ]
  },
  {
   "cell_type": "code",
   "execution_count": 48,
   "id": "a97c1c9d",
   "metadata": {},
   "outputs": [
    {
     "data": {
      "text/plain": [
       "array([ 4,  5,  6,  7,  8,  7,  8,  9, 10])"
      ]
     },
     "execution_count": 48,
     "metadata": {},
     "output_type": "execute_result"
    }
   ],
   "source": [
    "array = np.array([[1, 2, 3, 4], [5, 6, 7, 8], [7, 8, 9, 10]], dtype=int)\n",
    "array[array > 3]\n",
    "\n"
   ]
  },
  {
   "cell_type": "markdown",
   "id": "c2b7634e",
   "metadata": {},
   "source": [
    "**Q5. Use a NumPy function to create an array of length 5 with random numbers between 0 and 1.**"
   ]
  },
  {
   "cell_type": "code",
   "execution_count": 87,
   "id": "e2177557",
   "metadata": {},
   "outputs": [
    {
     "data": {
      "text/plain": [
       "array([0.69315343, 0.79178274, 0.04904571, 0.09558949, 0.46463039])"
      ]
     },
     "execution_count": 87,
     "metadata": {},
     "output_type": "execute_result"
    }
   ],
   "source": [
    "np.random.random(5)"
   ]
  },
  {
   "cell_type": "markdown",
   "id": "1392cae5",
   "metadata": {},
   "source": [
    "In the following section, we will take a look at NumPy operations."
   ]
  },
  {
   "cell_type": "code",
   "execution_count": 88,
   "id": "4cd55b48",
   "metadata": {},
   "outputs": [
    {
     "name": "stdout",
     "output_type": "stream",
     "text": [
      "Add arrays a and b: [2. 3. 4.]\n",
      "Multiply arrays a and a: [1 4 9]\n"
     ]
    }
   ],
   "source": [
    "# Add 2 equal size arrays\n",
    "a = np.array([1, 2, 3])\n",
    "b = np.ones(3)\n",
    "print(f\"Add arrays a and b: {a + b}\")\n",
    "print(f\"Multiply arrays a and a: {a * a}\")"
   ]
  },
  {
   "cell_type": "code",
   "execution_count": 89,
   "id": "b88541fb",
   "metadata": {},
   "outputs": [
    {
     "name": "stdout",
     "output_type": "stream",
     "text": [
      "Multiply 2 to array a: [2 4 6]\n"
     ]
    }
   ],
   "source": [
    "# Multiplying a constant to an array performs action on all the elements\n",
    "print(f\"Multiply 2 to array a: {2*a}\")"
   ]
  },
  {
   "cell_type": "code",
   "execution_count": 90,
   "id": "1787b5b9",
   "metadata": {},
   "outputs": [
    {
     "name": "stdout",
     "output_type": "stream",
     "text": [
      "Max of array a: 3\n",
      "Min of array a: 1\n",
      "Sum of array a: 6\n"
     ]
    }
   ],
   "source": [
    "# More array operations\n",
    "print(f\"Max of array a: {a.max()}\")\n",
    "print(f\"Min of array a: {a.min()}\")\n",
    "print(f\"Sum of array a: {a.sum()}\")"
   ]
  },
  {
   "cell_type": "code",
   "execution_count": 91,
   "id": "e3320e72",
   "metadata": {},
   "outputs": [
    {
     "name": "stdout",
     "output_type": "stream",
     "text": [
      "Unique values in array c: [1 2 3 4 5]\n"
     ]
    }
   ],
   "source": [
    "# Unique values in array\n",
    "c = np.array([1, 2, 1, 2, 4, 5, 3])\n",
    "print(f\"Unique values in array c: {np.unique(c)}\")"
   ]
  },
  {
   "cell_type": "markdown",
   "id": "5bb16fd1",
   "metadata": {},
   "source": [
    "**Q1. What is the resulting array of a - b?**"
   ]
  },
  {
   "cell_type": "code",
   "execution_count": 92,
   "id": "6edaac10",
   "metadata": {},
   "outputs": [
    {
     "data": {
      "text/plain": [
       "array([0., 1., 2.])"
      ]
     },
     "execution_count": 92,
     "metadata": {},
     "output_type": "execute_result"
    }
   ],
   "source": [
    "a - b"
   ]
  },
  {
   "cell_type": "markdown",
   "id": "3d94df62",
   "metadata": {},
   "source": [
    "**Q2. What is the value of the sum of the minimum elements of array a and b?**"
   ]
  },
  {
   "cell_type": "code",
   "execution_count": 96,
   "id": "d2e2e8e5",
   "metadata": {},
   "outputs": [
    {
     "data": {
      "text/plain": [
       "2.0"
      ]
     },
     "execution_count": 96,
     "metadata": {},
     "output_type": "execute_result"
    }
   ],
   "source": [
    "np.min(a) + np.min(b)"
   ]
  },
  {
   "cell_type": "markdown",
   "id": "def670ac",
   "metadata": {},
   "source": [
    "**Q3. What is the value of the maximum element of the array a + b?**"
   ]
  },
  {
   "cell_type": "code",
   "execution_count": 97,
   "id": "e6795498",
   "metadata": {},
   "outputs": [
    {
     "data": {
      "text/plain": [
       "4.0"
      ]
     },
     "execution_count": 97,
     "metadata": {},
     "output_type": "execute_result"
    }
   ],
   "source": [
    "np.max(a + b)"
   ]
  },
  {
   "cell_type": "markdown",
   "id": "b5607e17",
   "metadata": {},
   "source": [
    "**Q4. How many unique values are in the array below?**"
   ]
  },
  {
   "cell_type": "code",
   "execution_count": 110,
   "id": "c7c09240",
   "metadata": {},
   "outputs": [
    {
     "data": {
      "text/plain": [
       "array([0.01, 0.02, 0.03, 0.04, 0.06, 0.07, 0.08, 0.09, 0.11, 0.12, 0.13,\n",
       "       0.14, 0.15, 0.16, 0.17, 0.18, 0.19, 0.2 , 0.21, 0.22, 0.23, 0.24,\n",
       "       0.25, 0.26, 0.27, 0.28, 0.29, 0.3 , 0.31, 0.32, 0.33, 0.34, 0.35,\n",
       "       0.36, 0.37, 0.38, 0.39, 0.4 , 0.41, 0.42, 0.43, 0.44, 0.45, 0.46,\n",
       "       0.47, 0.48, 0.49, 0.5 , 0.51, 0.52, 0.53, 0.54, 0.55, 0.58, 0.59,\n",
       "       0.6 , 0.61, 0.63, 0.64, 0.65, 0.66, 0.68, 0.69, 0.7 , 0.71, 0.72,\n",
       "       0.74, 0.75, 0.76, 0.77, 0.78, 0.79, 0.8 , 0.81, 0.82, 0.83, 0.84,\n",
       "       0.85, 0.86, 0.87, 0.88, 0.89, 0.9 , 0.91, 0.92, 0.93, 0.94, 0.95,\n",
       "       0.96, 0.97, 0.98, 0.99, 1.  ])"
      ]
     },
     "execution_count": 110,
     "metadata": {},
     "output_type": "execute_result"
    }
   ],
   "source": [
    "arr = np.round(np.random.random_sample(250), 2)\n",
    "np.unique(arr)"
   ]
  },
  {
   "cell_type": "markdown",
   "id": "3cefc2a2",
   "metadata": {},
   "source": [
    "## Pandas Review\n",
    "In this section, you will learn the basics of pandas and numpy. Hopefully you will have a good understanding of how to use these packages by the end!\n",
    "\n",
    "### DataFrames\n",
    "DataFrames are basically a table where each column has a specific data type and there's also an index over the columns and rows (multi-index is possible!).\n",
    "\n",
    "In the future, you will use `pd.read_csv` to read in data.\n",
    "\n",
    "Here, we will just learn how to create a basic DataFrame.\n",
    "\n",
    "#### First, let's import the necessary packages."
   ]
  },
  {
   "cell_type": "code",
   "execution_count": 2,
   "id": "2e86ce9d",
   "metadata": {},
   "outputs": [],
   "source": [
    "import pandas as pd"
   ]
  },
  {
   "cell_type": "markdown",
   "id": "547c49be",
   "metadata": {},
   "source": [
    "#### Creating DataFrame by Columns"
   ]
  },
  {
   "cell_type": "code",
   "execution_count": null,
   "id": "96da6539",
   "metadata": {},
   "outputs": [],
   "source": [
    "example_df = pd.DataFrame(\n",
    "    [ (\"Alex\", 1, \"CS\"), (\"Ben\", 1, \"Math\"), (\"Charlie\", 2, \"CS\"), (\"David\", 3, \"Stats\"),\n",
    "    ]\n",
    ")\n",
    "example_df"
   ]
  },
  {
   "cell_type": "markdown",
   "id": "c2f9073b",
   "metadata": {},
   "source": [
    "#### Creating DataFrame by Rows"
   ]
  },
  {
   "cell_type": "code",
   "execution_count": null,
   "id": "06e298aa",
   "metadata": {},
   "outputs": [],
   "source": [
    "example_df = pd.DataFrame(\n",
    "    data = {\n",
    "        'Student': [\"Alex\", \"Ben\", \"Charlie\", \"David\"],\n",
    "        'Grade': [1, 1, 2, 3],\n",
    "        'Major': [\"CS\", \"Math\", \"CS\", \"Stats\"],\n",
    "    }\n",
    ")\n",
    "example_df"
   ]
  },
  {
   "cell_type": "markdown",
   "id": "d6f8f51e",
   "metadata": {},
   "source": [
    "There are useful tools such as `DataFrame.shape` which tells you the dimension of the DataFrame. More on these can be found [here](https://pandas.pydata.org/docs/reference/api/pandas.DataFrame.html)"
   ]
  },
  {
   "cell_type": "markdown",
   "id": "9afc4d47",
   "metadata": {},
   "source": [
    "#### Slicing\n",
    "There are 3 main ways to slice DataFrmaes: `loc`, `iloc`, and `[]`. `loc` takes in two arguments, row labels and column labels. `iloc` is similar to `loc` but it takes in row and column numbers instead of labels. `[]` is the more general operator.\n",
    "\n",
    "We will just see a brief example of how to use these 3."
   ]
  },
  {
   "cell_type": "code",
   "execution_count": null,
   "id": "77541da1",
   "metadata": {},
   "outputs": [],
   "source": [
    "# get rows 0 through 2 and columns Student and Major\n",
    "example_df.loc[0:2, ['Student', 'Major']]"
   ]
  },
  {
   "cell_type": "code",
   "execution_count": null,
   "id": "a73a651f",
   "metadata": {},
   "outputs": [],
   "source": [
    "# get rows 0 and 3 and columns 0 through 2 (exclusive)\n",
    "example_df.iloc[[0, 3], 0:2]"
   ]
  },
  {
   "cell_type": "code",
   "execution_count": null,
   "id": "9002bc44",
   "metadata": {},
   "outputs": [],
   "source": [
    "# get rows 0 through 3 (exclusive)\n",
    "example_df[0:3]"
   ]
  },
  {
   "cell_type": "markdown",
   "id": "6181670f",
   "metadata": {},
   "source": [
    "#### Q1. Create a sample DataFrame with at least 5 rows and columns and display the original DataFrame"
   ]
  },
  {
   "cell_type": "code",
   "execution_count": null,
   "id": "e452e6d4",
   "metadata": {},
   "outputs": [],
   "source": []
  },
  {
   "cell_type": "markdown",
   "id": "8292c37b",
   "metadata": {},
   "source": [
    "#### Q2. Display the DataFrame above but with just the rows 1 through 3 and columns 2 and 4 (0-indexed)"
   ]
  },
  {
   "cell_type": "code",
   "execution_count": null,
   "id": "dee5336d",
   "metadata": {},
   "outputs": [],
   "source": []
  },
  {
   "cell_type": "markdown",
   "id": "cdb25c28",
   "metadata": {},
   "source": [
    "#### Q3. Using the DataFrame you created in Q1, add a new column to it."
   ]
  },
  {
   "cell_type": "code",
   "execution_count": null,
   "id": "cacc175e",
   "metadata": {},
   "outputs": [],
   "source": []
  },
  {
   "cell_type": "markdown",
   "id": "3b266bf5",
   "metadata": {},
   "source": [
    "#### Q4. Using the `.drop()` function, drop one of the columns from the DataFrame you created in Q1 and display it."
   ]
  },
  {
   "cell_type": "code",
   "execution_count": null,
   "id": "9c217a3f",
   "metadata": {},
   "outputs": [],
   "source": []
  },
  {
   "cell_type": "markdown",
   "id": "6f66e073",
   "metadata": {},
   "source": [
    "#### Q5. Using the `.rename()` function, rename one of the columns from the DataFrame you created in Q1 and display it."
   ]
  },
  {
   "cell_type": "code",
   "execution_count": null,
   "id": "cfcdac44",
   "metadata": {},
   "outputs": [],
   "source": []
  },
  {
   "cell_type": "markdown",
   "id": "4fa87ff3",
   "metadata": {},
   "source": [
    "### Filtering Data\n",
    "When we want to filter our DataFrame for a specific set of data, we can use boolean symbols to do so.\n",
    "\n",
    "Say from our `example_df` above, we want to only look through students who's grade is at most 2."
   ]
  },
  {
   "cell_type": "code",
   "execution_count": null,
   "id": "87a2a4ba",
   "metadata": {
    "scrolled": true
   },
   "outputs": [],
   "source": [
    "example_df[example_df[\"Grade\"] <= 2]"
   ]
  },
  {
   "cell_type": "markdown",
   "id": "b44ba6f3",
   "metadata": {},
   "source": [
    "Now, let's say we want to filter for students who are CS majors and grade 1."
   ]
  },
  {
   "cell_type": "code",
   "execution_count": null,
   "id": "af214e5e",
   "metadata": {},
   "outputs": [],
   "source": [
    "example_df[(example_df[\"Major\"] == \"CS\") & (example_df[\"Grade\"] == 1)]"
   ]
  },
  {
   "cell_type": "markdown",
   "id": "ec3fdb01",
   "metadata": {},
   "source": [
    "Another cool way of filtering is using the method `groupby`. Let's say we want to know the number of students from each Grade."
   ]
  },
  {
   "cell_type": "code",
   "execution_count": null,
   "id": "95dbee7d",
   "metadata": {},
   "outputs": [],
   "source": [
    "example_df.groupby([\"Grade\"]).count()"
   ]
  },
  {
   "cell_type": "markdown",
   "id": "67515e95",
   "metadata": {},
   "source": [
    "#### Q1. Using your DataFrame from the previous question, do some sort of filtering and show your code & output below."
   ]
  },
  {
   "cell_type": "code",
   "execution_count": null,
   "id": "7f6a7338",
   "metadata": {},
   "outputs": [],
   "source": []
  },
  {
   "cell_type": "markdown",
   "id": "2140a142",
   "metadata": {},
   "source": [
    "----"
   ]
  },
  {
   "attachments": {},
   "cell_type": "markdown",
   "id": "b3384522",
   "metadata": {},
   "source": [
    "Now let's download an external dataset. We can use the `read_csv` function from pandas to do so. We demonstrate how we can convert the data in `cars.csv` into a pandas dataframe in order to work with it in python."
   ]
  },
  {
   "cell_type": "code",
   "execution_count": 12,
   "id": "358e042a",
   "metadata": {},
   "outputs": [],
   "source": [
    "data = pd.read_csv('./cars.csv', delimiter = ';').tail(-1)"
   ]
  },
  {
   "attachments": {},
   "cell_type": "markdown",
   "id": "88d9f43d",
   "metadata": {},
   "source": [
    "#### Q2. Display the first 15 rows of `data` using the `head` function."
   ]
  },
  {
   "cell_type": "code",
   "execution_count": null,
   "id": "58d4474c",
   "metadata": {},
   "outputs": [],
   "source": []
  },
  {
   "attachments": {},
   "cell_type": "markdown",
   "id": "a391c378",
   "metadata": {},
   "source": [
    "#### Q3. Display the last 7 rows of `data` using the `tail` function."
   ]
  },
  {
   "cell_type": "code",
   "execution_count": null,
   "id": "4e8f3a16",
   "metadata": {},
   "outputs": [],
   "source": []
  },
  {
   "attachments": {},
   "cell_type": "markdown",
   "id": "902389f2",
   "metadata": {},
   "source": [
    "#### Q4. Using the variable `data`, find how many cars have 6 cylinders"
   ]
  },
  {
   "cell_type": "code",
   "execution_count": null,
   "id": "0a5c7f77",
   "metadata": {},
   "outputs": [],
   "source": []
  },
  {
   "attachments": {},
   "cell_type": "markdown",
   "id": "a908b272",
   "metadata": {},
   "source": [
    "#### Q5. Using the variable `data`, find how many cars with 6 cylinders were originated from the US."
   ]
  },
  {
   "cell_type": "code",
   "execution_count": null,
   "id": "e338965a",
   "metadata": {},
   "outputs": [],
   "source": []
  },
  {
   "attachments": {},
   "cell_type": "markdown",
   "id": "76b5f6c9",
   "metadata": {},
   "source": [
    "#### Q6. Using the variable `data`, display cars with 6 cylinders, from the US, with weigth less than 3000."
   ]
  },
  {
   "cell_type": "code",
   "execution_count": null,
   "id": "e62ce7ba",
   "metadata": {},
   "outputs": [],
   "source": []
  },
  {
   "cell_type": "markdown",
   "id": "8a66caf0",
   "metadata": {},
   "source": [
    "## Data Visualization\n",
    "We can use `matplotlib` for visualization. It plots on to a set of Axes which are associated with a Figure. It will auto-plot onto the current set of Axes or create a new figure/set of default axes. This can be done by using `matplotlib.pyplot` package, which are usually called as `plt`. A subsequent `plt` calls will edit the same set of default-created aces. In addition, after the initial plot, `plt.gca()` will get the current set of axes. \n",
    "\n",
    "**Import packages.**"
   ]
  },
  {
   "cell_type": "code",
   "execution_count": null,
   "id": "e2ea44fa",
   "metadata": {},
   "outputs": [],
   "source": [
    "import matplotlib.pyplot as plt"
   ]
  },
  {
   "cell_type": "markdown",
   "id": "ee0413fb",
   "metadata": {},
   "source": [
    "We are going to look at some sample plots."
   ]
  },
  {
   "cell_type": "code",
   "execution_count": null,
   "id": "c0696548",
   "metadata": {},
   "outputs": [],
   "source": [
    "# Plot using plt\n",
    "arr = np.arange(25)\n",
    "plt.plot(arr)\n",
    "plt.xlabel(\"Index\")\n",
    "plt.ylabel(\"Number\")\n",
    "plt.title(\"Sample Plot\")\n",
    "\n",
    "plt.show()"
   ]
  },
  {
   "cell_type": "code",
   "execution_count": null,
   "id": "3f6a05ea",
   "metadata": {},
   "outputs": [],
   "source": [
    "# Plot using axes\n",
    "plt.plot(arr)\n",
    "axes = plt.gca()\n",
    "axes.set_ylabel(\"Index (Axes)\")\n",
    "axes.set_xlabel(\"Number (Axes)\")\n",
    "axes.set_title(\"Sample Plot (Axes)\")\n",
    "\n",
    "plt.show()"
   ]
  },
  {
   "cell_type": "markdown",
   "id": "a69eca4f",
   "metadata": {},
   "source": [
    "---"
   ]
  },
  {
   "cell_type": "code",
   "execution_count": 25,
   "id": "7339e77b",
   "metadata": {},
   "outputs": [
    {
     "data": {
      "text/html": [
       "<div>\n",
       "<style scoped>\n",
       "    .dataframe tbody tr th:only-of-type {\n",
       "        vertical-align: middle;\n",
       "    }\n",
       "\n",
       "    .dataframe tbody tr th {\n",
       "        vertical-align: top;\n",
       "    }\n",
       "\n",
       "    .dataframe thead th {\n",
       "        text-align: right;\n",
       "    }\n",
       "</style>\n",
       "<table border=\"1\" class=\"dataframe\">\n",
       "  <thead>\n",
       "    <tr style=\"text-align: right;\">\n",
       "      <th></th>\n",
       "      <th>Car</th>\n",
       "      <th>MPG</th>\n",
       "      <th>Cylinders</th>\n",
       "      <th>Displacement</th>\n",
       "      <th>Horsepower</th>\n",
       "      <th>Weight</th>\n",
       "      <th>Acceleration</th>\n",
       "      <th>Model</th>\n",
       "      <th>Origin</th>\n",
       "    </tr>\n",
       "  </thead>\n",
       "  <tbody>\n",
       "    <tr>\n",
       "      <th>1</th>\n",
       "      <td>Chevrolet Chevelle Malibu</td>\n",
       "      <td>18.0</td>\n",
       "      <td>8</td>\n",
       "      <td>307.0</td>\n",
       "      <td>130.0</td>\n",
       "      <td>3504.</td>\n",
       "      <td>12.0</td>\n",
       "      <td>70</td>\n",
       "      <td>US</td>\n",
       "    </tr>\n",
       "    <tr>\n",
       "      <th>2</th>\n",
       "      <td>Buick Skylark 320</td>\n",
       "      <td>15.0</td>\n",
       "      <td>8</td>\n",
       "      <td>350.0</td>\n",
       "      <td>165.0</td>\n",
       "      <td>3693.</td>\n",
       "      <td>11.5</td>\n",
       "      <td>70</td>\n",
       "      <td>US</td>\n",
       "    </tr>\n",
       "    <tr>\n",
       "      <th>3</th>\n",
       "      <td>Plymouth Satellite</td>\n",
       "      <td>18.0</td>\n",
       "      <td>8</td>\n",
       "      <td>318.0</td>\n",
       "      <td>150.0</td>\n",
       "      <td>3436.</td>\n",
       "      <td>11.0</td>\n",
       "      <td>70</td>\n",
       "      <td>US</td>\n",
       "    </tr>\n",
       "    <tr>\n",
       "      <th>4</th>\n",
       "      <td>AMC Rebel SST</td>\n",
       "      <td>16.0</td>\n",
       "      <td>8</td>\n",
       "      <td>304.0</td>\n",
       "      <td>150.0</td>\n",
       "      <td>3433.</td>\n",
       "      <td>12.0</td>\n",
       "      <td>70</td>\n",
       "      <td>US</td>\n",
       "    </tr>\n",
       "    <tr>\n",
       "      <th>5</th>\n",
       "      <td>Ford Torino</td>\n",
       "      <td>17.0</td>\n",
       "      <td>8</td>\n",
       "      <td>302.0</td>\n",
       "      <td>140.0</td>\n",
       "      <td>3449.</td>\n",
       "      <td>10.5</td>\n",
       "      <td>70</td>\n",
       "      <td>US</td>\n",
       "    </tr>\n",
       "    <tr>\n",
       "      <th>...</th>\n",
       "      <td>...</td>\n",
       "      <td>...</td>\n",
       "      <td>...</td>\n",
       "      <td>...</td>\n",
       "      <td>...</td>\n",
       "      <td>...</td>\n",
       "      <td>...</td>\n",
       "      <td>...</td>\n",
       "      <td>...</td>\n",
       "    </tr>\n",
       "    <tr>\n",
       "      <th>402</th>\n",
       "      <td>Ford Mustang GL</td>\n",
       "      <td>27.0</td>\n",
       "      <td>4</td>\n",
       "      <td>140.0</td>\n",
       "      <td>86.00</td>\n",
       "      <td>2790.</td>\n",
       "      <td>15.6</td>\n",
       "      <td>82</td>\n",
       "      <td>US</td>\n",
       "    </tr>\n",
       "    <tr>\n",
       "      <th>403</th>\n",
       "      <td>Volkswagen Pickup</td>\n",
       "      <td>44.0</td>\n",
       "      <td>4</td>\n",
       "      <td>97.00</td>\n",
       "      <td>52.00</td>\n",
       "      <td>2130.</td>\n",
       "      <td>24.6</td>\n",
       "      <td>82</td>\n",
       "      <td>Europe</td>\n",
       "    </tr>\n",
       "    <tr>\n",
       "      <th>404</th>\n",
       "      <td>Dodge Rampage</td>\n",
       "      <td>32.0</td>\n",
       "      <td>4</td>\n",
       "      <td>135.0</td>\n",
       "      <td>84.00</td>\n",
       "      <td>2295.</td>\n",
       "      <td>11.6</td>\n",
       "      <td>82</td>\n",
       "      <td>US</td>\n",
       "    </tr>\n",
       "    <tr>\n",
       "      <th>405</th>\n",
       "      <td>Ford Ranger</td>\n",
       "      <td>28.0</td>\n",
       "      <td>4</td>\n",
       "      <td>120.0</td>\n",
       "      <td>79.00</td>\n",
       "      <td>2625.</td>\n",
       "      <td>18.6</td>\n",
       "      <td>82</td>\n",
       "      <td>US</td>\n",
       "    </tr>\n",
       "    <tr>\n",
       "      <th>406</th>\n",
       "      <td>Chevy S-10</td>\n",
       "      <td>31.0</td>\n",
       "      <td>4</td>\n",
       "      <td>119.0</td>\n",
       "      <td>82.00</td>\n",
       "      <td>2720.</td>\n",
       "      <td>19.4</td>\n",
       "      <td>82</td>\n",
       "      <td>US</td>\n",
       "    </tr>\n",
       "  </tbody>\n",
       "</table>\n",
       "<p>406 rows × 9 columns</p>\n",
       "</div>"
      ],
      "text/plain": [
       "                           Car   MPG Cylinders Displacement Horsepower Weight  \\\n",
       "1    Chevrolet Chevelle Malibu  18.0         8        307.0      130.0  3504.   \n",
       "2            Buick Skylark 320  15.0         8        350.0      165.0  3693.   \n",
       "3           Plymouth Satellite  18.0         8        318.0      150.0  3436.   \n",
       "4                AMC Rebel SST  16.0         8        304.0      150.0  3433.   \n",
       "5                  Ford Torino  17.0         8        302.0      140.0  3449.   \n",
       "..                         ...   ...       ...          ...        ...    ...   \n",
       "402            Ford Mustang GL  27.0         4        140.0      86.00  2790.   \n",
       "403          Volkswagen Pickup  44.0         4        97.00      52.00  2130.   \n",
       "404              Dodge Rampage  32.0         4        135.0      84.00  2295.   \n",
       "405                Ford Ranger  28.0         4        120.0      79.00  2625.   \n",
       "406                 Chevy S-10  31.0         4        119.0      82.00  2720.   \n",
       "\n",
       "    Acceleration Model  Origin  \n",
       "1           12.0    70      US  \n",
       "2           11.5    70      US  \n",
       "3           11.0    70      US  \n",
       "4           12.0    70      US  \n",
       "5           10.5    70      US  \n",
       "..           ...   ...     ...  \n",
       "402         15.6    82      US  \n",
       "403         24.6    82  Europe  \n",
       "404         11.6    82      US  \n",
       "405         18.6    82      US  \n",
       "406         19.4    82      US  \n",
       "\n",
       "[406 rows x 9 columns]"
      ]
     },
     "execution_count": 25,
     "metadata": {},
     "output_type": "execute_result"
    }
   ],
   "source": [
    "car_data = pd.read_csv('./cars.csv', delimiter = ';').tail(-1)\n",
    "car_data"
   ]
  },
  {
   "attachments": {},
   "cell_type": "markdown",
   "id": "7e7a81f5",
   "metadata": {},
   "source": [
    "**Q1. Create a graph with the `Horsepower` on the x-axis and `Acceleration` on the y-axis.** *(If there are too many ticks, cast your data as `float` using `np.asarray()`. )* "
   ]
  },
  {
   "cell_type": "code",
   "execution_count": null,
   "id": "d5bc65be",
   "metadata": {},
   "outputs": [],
   "source": []
  },
  {
   "attachments": {},
   "cell_type": "markdown",
   "id": "22e775ff",
   "metadata": {},
   "source": [
    "Your graph should look something like this: \n",
    "\n",
    "![Q1 Image](https://cdn.discordapp.com/attachments/564268123545403394/1070609023419826206/image.png)"
   ]
  },
  {
   "cell_type": "markdown",
   "id": "066341a1",
   "metadata": {},
   "source": [
    "**Q2.Create a histogram based on the values of the column `Cylinders`.**"
   ]
  },
  {
   "cell_type": "code",
   "execution_count": null,
   "id": "e762e2b3",
   "metadata": {},
   "outputs": [],
   "source": []
  },
  {
   "attachments": {
    "image.png": {
     "image/png": "[encoded data removed]"
    }
   },
   "cell_type": "markdown",
   "id": "b11806a8",
   "metadata": {},
   "source": [
    "Again, your graph should look something like this:\n",
    "\n",
    "![Q2 Image](attachment:image.png)"
   ]
  },
  {
   "cell_type": "markdown",
   "id": "a008a4ea",
   "metadata": {},
   "source": [
    "**Q3. Create a graph with the `Weight` on the x-axis and `Acceleration` on the y-axis.**"
   ]
  },
  {
   "cell_type": "code",
   "execution_count": null,
   "id": "1ac1fa00",
   "metadata": {},
   "outputs": [],
   "source": []
  },
  {
   "attachments": {},
   "cell_type": "markdown",
   "id": "0a3733e4",
   "metadata": {},
   "source": [
    "Your graph should look like this: \n",
    "\n",
    "![Q3 Image](https://cdn.discordapp.com/attachments/564268123545403394/1070609271747772446/image.png)"
   ]
  },
  {
   "attachments": {},
   "cell_type": "markdown",
   "id": "492b044e",
   "metadata": {},
   "source": [
    "## Using YFinance Data"
   ]
  },
  {
   "attachments": {},
   "cell_type": "markdown",
   "id": "3832402c",
   "metadata": {},
   "source": [
    "Now, let's explore stock data using `yfinance`."
   ]
  },
  {
   "attachments": {},
   "cell_type": "markdown",
   "id": "cfdf55b2",
   "metadata": {},
   "source": [
    "**Q1.Import `yfinance` and get the S&P 500, APPL, MSFT, and GOOG data. The granularity should be minute level data for the past 30 days.**"
   ]
  },
  {
   "cell_type": "code",
   "execution_count": null,
   "id": "a4db141a",
   "metadata": {},
   "outputs": [],
   "source": []
  },
  {
   "attachments": {},
   "cell_type": "markdown",
   "id": "5a31a951",
   "metadata": {},
   "source": [
    "**Q2.Now, try plotting the price of S&P 500 for the past 30 days.**"
   ]
  },
  {
   "cell_type": "code",
   "execution_count": null,
   "id": "ff20c95f",
   "metadata": {},
   "outputs": [],
   "source": []
  },
  {
   "attachments": {},
   "cell_type": "markdown",
   "id": "a602cc37",
   "metadata": {},
   "source": [
    "Note down any observations in this cell:"
   ]
  },
  {
   "cell_type": "markdown",
   "id": "ca0a9898",
   "metadata": {},
   "source": []
  },
  {
   "attachments": {},
   "cell_type": "markdown",
   "id": "bb145d07",
   "metadata": {},
   "source": [
    "**Q3.Now, plot the returns (a.k.a percent change) of S&P 500 for the past 30 days.**"
   ]
  },
  {
   "cell_type": "code",
   "execution_count": null,
   "id": "651bb083",
   "metadata": {},
   "outputs": [],
   "source": []
  },
  {
   "attachments": {},
   "cell_type": "markdown",
   "id": "5d9c46e4",
   "metadata": {},
   "source": [
    "**Q4.Plot the returns of APPL, MSFT, GOOG as well.**"
   ]
  },
  {
   "cell_type": "code",
   "execution_count": null,
   "id": "3c5dffe0",
   "metadata": {},
   "outputs": [],
   "source": []
  },
  {
   "attachments": {},
   "cell_type": "markdown",
   "id": "b345c086",
   "metadata": {},
   "source": [
    "**Q5.Run seaborn.pairplot on the returns of SPY, APPL, MSFT, and GOOG. (You have to import the package)**"
   ]
  },
  {
   "cell_type": "code",
   "execution_count": null,
   "id": "f2e035e6",
   "metadata": {},
   "outputs": [],
   "source": []
  },
  {
   "attachments": {},
   "cell_type": "markdown",
   "id": "02c7cdfb",
   "metadata": {},
   "source": [
    "**Q6.Print the correlations across those 4.**"
   ]
  },
  {
   "cell_type": "code",
   "execution_count": null,
   "id": "e40699c1",
   "metadata": {},
   "outputs": [],
   "source": []
  },
  {
   "attachments": {},
   "cell_type": "markdown",
   "id": "746be415",
   "metadata": {},
   "source": [
    "Now we have learned a lot of stocks are very correlated to the market at large!"
   ]
  },
  {
   "cell_type": "markdown",
   "id": "c61800fa",
   "metadata": {},
   "source": [
    "## Submission"
   ]
  },
  {
   "attachments": {},
   "cell_type": "markdown",
   "id": "2c0560ec",
   "metadata": {},
   "source": [
    "Submit your code to github under the \"[Coding HW] Homework 0\" Assignment. This homework is due February 12th by Midnight."
   ]
  }
 ],
 "metadata": {
  "kernelspec": {
   "display_name": "base",
   "language": "python",
   "name": "python3"
  },
  "language_info": {
   "codemirror_mode": {
    "name": "ipython",
    "version": 3
   },
   "file_extension": ".py",
   "mimetype": "text/x-python",
   "name": "python",
   "nbconvert_exporter": "python",
   "pygments_lexer": "ipython3",
   "version": "3.9.12"
  },
  "vscode": {
   "interpreter": {
    "hash": "29ee42a3e30172f57ff70a61c5cb6f1d9f0d9670af03593c19d6e06e7a533e89"
   }
  }
 },
 "nbformat": 4,
 "nbformat_minor": 5
}
